{
 "cells": [
  {
   "cell_type": "code",
   "execution_count": 2,
   "metadata": {},
   "outputs": [],
   "source": [
    "using LinearAlgebra\n",
    "using Plots"
   ]
  },
  {
   "cell_type": "code",
   "execution_count": 2,
   "metadata": {
    "scrolled": true
   },
   "outputs": [
    {
     "data": {
      "text/plain": [
       "2×3 Matrix{Int64}:\n",
       " 1  2  3\n",
       " 2  3  5"
      ]
     },
     "execution_count": 2,
     "metadata": {},
     "output_type": "execute_result"
    }
   ],
   "source": [
    "E=[1 2 3\n",
    "   2 3 5]"
   ]
  },
  {
   "cell_type": "code",
   "execution_count": null,
   "metadata": {},
   "outputs": [],
   "source": [
    "z_k^2=e_k"
   ]
  },
  {
   "cell_type": "code",
   "execution_count": 429,
   "metadata": {},
   "outputs": [
    {
     "data": {
      "text/plain": [
       "draw (generic function with 2 methods)"
      ]
     },
     "execution_count": 429,
     "metadata": {},
     "output_type": "execute_result"
    }
   ],
   "source": [
    "function sum_polygon(E)\n",
    "    points = [zeros(2,1) E[:,1]]\n",
    "    previous_point = E[:,1]\n",
    "    for idx in 2:size(E)[2]\n",
    "        item = E[:,idx]\n",
    "        next_point = previous_point + item\n",
    "        points = [points previous_point next_point]\n",
    "        previous_point = next_point\n",
    "    end\n",
    "    return points\n",
    "end\n",
    "\n",
    "function generate_polygon(n)\n",
    "    A=randn(n,2)\n",
    "    Q,=qr(A)\n",
    "    x=Q[:,1]\n",
    "    y=Q[:,2]\n",
    "    z=x+im*y\n",
    "    e=z.^2\n",
    "    #print(norm(e[1]+e[2]+e[3]+e[4]),\"\\n\")\n",
    "    #print(norm(e[1])+norm(e[2])+norm(e[3])+norm(e[4]))\n",
    "    E=[real(e)' ; imag(e)']\n",
    "    points = sum_polygon(E)\n",
    "    #points=[zeros(2,1) E[:,1] E[:,1] E[:,1]+E[:,2] E[:,1]+E[:,2] E[:,1]+E[:,2]+E[:,3] E[:,1]+E[:,2]+E[:,3] E[:,1]+E[:,2]+E[:,3]+E[:,4]]\n",
    "    return points\n",
    "end\n",
    "\n",
    "function draw(all_polygons, fps=15)\n",
    "    anim = @animate for i in 1:length(all_polygons)\n",
    "        points = all_polygons[i]\n",
    "        plot(points[1,:],points[2,:], xlim=(-1,1), ylim=(-1, 1))\n",
    "    end\n",
    "    return anim\n",
    "end"
   ]
  },
  {
   "cell_type": "code",
   "execution_count": 434,
   "metadata": {},
   "outputs": [
    {
     "name": "stderr",
     "output_type": "stream",
     "text": [
      "┌ Info: Saved animation to \n",
      "│   fn = C:\\Users\\jarpa\\polygons.gif\n",
      "└ @ Plots C:\\Users\\jarpa\\.julia\\packages\\Plots\\lzHOt\\src\\animation.jl:104\n"
     ]
    },
    {
     "data": {
      "text/html": [
       "<img src=\"data:image/gif;base64,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\" />"
      ],
      "text/plain": [
       "Plots.AnimatedGif(\"C:\\\\Users\\\\jarpa\\\\polygons.gif\")"
      ]
     },
     "execution_count": 434,
     "metadata": {},
     "output_type": "execute_result"
    }
   ],
   "source": [
    "n = 3\n",
    "fps = 1\n",
    "\n",
    "polygons = Matrix{Float64}[]\n",
    "push!(polygons, generate_polygon(n))\n",
    "push!(polygons, generate_polygon(n))\n",
    "push!(polygons, generate_polygon(n))\n",
    "anim = draw(polygons)\n",
    "gif(anim, \"polygons.gif\", fps = fps)"
   ]
  },
  {
   "cell_type": "code",
   "execution_count": 438,
   "metadata": {
    "scrolled": true
   },
   "outputs": [
    {
     "name": "stdout",
     "output_type": "stream",
     "text": [
      "5.551115123125783e-17\n",
      "2.0"
     ]
    },
    {
     "data": {
      "image/svg+xml": [
       "<?xml version=\"1.0\" encoding=\"utf-8\"?>\n",
       "<svg xmlns=\"http://www.w3.org/2000/svg\" xmlns:xlink=\"http://www.w3.org/1999/xlink\" width=\"600\" height=\"400\" viewBox=\"0 0 2400 1600\">\n",
       "<defs>\n",
       "  <clipPath id=\"clip870\">\n",
       "    <rect x=\"0\" y=\"0\" width=\"2400\" height=\"1600\"/>\n",
       "  </clipPath>\n",
       "</defs>\n",
       "<path clip-path=\"url(#clip870)\" d=\"\n",
       "M0 1600 L2400 1600 L2400 0 L0 0  Z\n",
       "  \" fill=\"#ffffff\" fill-rule=\"evenodd\" fill-opacity=\"1\"/>\n",
       "<defs>\n",
       "  <clipPath id=\"clip871\">\n",
       "    <rect x=\"480\" y=\"0\" width=\"1681\" height=\"1600\"/>\n",
       "  </clipPath>\n",
       "</defs>\n",
       "<path clip-path=\"url(#clip870)\" d=\"\n",
       "M194.422 1486.45 L2352.76 1486.45 L2352.76 47.2441 L194.422 47.2441  Z\n",
       "  \" fill=\"#ffffff\" fill-rule=\"evenodd\" fill-opacity=\"1\"/>\n",
       "<defs>\n",
       "  <clipPath id=\"clip872\">\n",
       "    <rect x=\"194\" y=\"47\" width=\"2159\" height=\"1440\"/>\n",
       "  </clipPath>\n",
       "</defs>\n",
       "<polyline clip-path=\"url(#clip872)\" style=\"stroke:#000000; stroke-linecap:round; stroke-linejoin:round; stroke-width:2; stroke-opacity:0.1; fill:none\" points=\"\n",
       "  255.507,1486.45 255.507,47.2441 \n",
       "  \"/>\n",
       "<polyline clip-path=\"url(#clip872)\" style=\"stroke:#000000; stroke-linecap:round; stroke-linejoin:round; stroke-width:2; stroke-opacity:0.1; fill:none\" points=\"\n",
       "  659.396,1486.45 659.396,47.2441 \n",
       "  \"/>\n",
       "<polyline clip-path=\"url(#clip872)\" style=\"stroke:#000000; stroke-linecap:round; stroke-linejoin:round; stroke-width:2; stroke-opacity:0.1; fill:none\" points=\"\n",
       "  1063.29,1486.45 1063.29,47.2441 \n",
       "  \"/>\n",
       "<polyline clip-path=\"url(#clip872)\" style=\"stroke:#000000; stroke-linecap:round; stroke-linejoin:round; stroke-width:2; stroke-opacity:0.1; fill:none\" points=\"\n",
       "  1467.17,1486.45 1467.17,47.2441 \n",
       "  \"/>\n",
       "<polyline clip-path=\"url(#clip872)\" style=\"stroke:#000000; stroke-linecap:round; stroke-linejoin:round; stroke-width:2; stroke-opacity:0.1; fill:none\" points=\"\n",
       "  1871.06,1486.45 1871.06,47.2441 \n",
       "  \"/>\n",
       "<polyline clip-path=\"url(#clip872)\" style=\"stroke:#000000; stroke-linecap:round; stroke-linejoin:round; stroke-width:2; stroke-opacity:0.1; fill:none\" points=\"\n",
       "  2274.95,1486.45 2274.95,47.2441 \n",
       "  \"/>\n",
       "<polyline clip-path=\"url(#clip870)\" style=\"stroke:#000000; stroke-linecap:round; stroke-linejoin:round; stroke-width:4; stroke-opacity:1; fill:none\" points=\"\n",
       "  194.422,1486.45 2352.76,1486.45 \n",
       "  \"/>\n",
       "<polyline clip-path=\"url(#clip870)\" style=\"stroke:#000000; stroke-linecap:round; stroke-linejoin:round; stroke-width:4; stroke-opacity:1; fill:none\" points=\"\n",
       "  255.507,1486.45 255.507,1469.18 \n",
       "  \"/>\n",
       "<polyline clip-path=\"url(#clip870)\" style=\"stroke:#000000; stroke-linecap:round; stroke-linejoin:round; stroke-width:4; stroke-opacity:1; fill:none\" points=\"\n",
       "  659.396,1486.45 659.396,1469.18 \n",
       "  \"/>\n",
       "<polyline clip-path=\"url(#clip870)\" style=\"stroke:#000000; stroke-linecap:round; stroke-linejoin:round; stroke-width:4; stroke-opacity:1; fill:none\" points=\"\n",
       "  1063.29,1486.45 1063.29,1469.18 \n",
       "  \"/>\n",
       "<polyline clip-path=\"url(#clip870)\" style=\"stroke:#000000; stroke-linecap:round; stroke-linejoin:round; stroke-width:4; stroke-opacity:1; fill:none\" points=\"\n",
       "  1467.17,1486.45 1467.17,1469.18 \n",
       "  \"/>\n",
       "<polyline clip-path=\"url(#clip870)\" style=\"stroke:#000000; stroke-linecap:round; stroke-linejoin:round; stroke-width:4; stroke-opacity:1; fill:none\" points=\"\n",
       "  1871.06,1486.45 1871.06,1469.18 \n",
       "  \"/>\n",
       "<polyline clip-path=\"url(#clip870)\" style=\"stroke:#000000; stroke-linecap:round; stroke-linejoin:round; stroke-width:4; stroke-opacity:1; fill:none\" points=\"\n",
       "  2274.95,1486.45 2274.95,1469.18 \n",
       "  \"/>\n",
       "<path clip-path=\"url(#clip870)\" d=\"M232.891 1515.64 Q229.28 1515.64 227.452 1519.2 Q225.646 1522.75 225.646 1529.87 Q225.646 1536.98 227.452 1540.55 Q229.28 1544.09 232.891 1544.09 Q236.526 1544.09 238.331 1540.55 Q240.16 1536.98 240.16 1529.87 Q240.16 1522.75 238.331 1519.2 Q236.526 1515.64 232.891 1515.64 M232.891 1511.93 Q238.702 1511.93 241.757 1516.54 Q244.836 1521.12 244.836 1529.87 Q244.836 1538.6 241.757 1543.21 Q238.702 1547.79 232.891 1547.79 Q227.081 1547.79 224.003 1543.21 Q220.947 1538.6 220.947 1529.87 Q220.947 1521.12 224.003 1516.54 Q227.081 1511.93 232.891 1511.93 Z\" fill=\"#000000\" fill-rule=\"evenodd\" fill-opacity=\"1\" /><path clip-path=\"url(#clip870)\" d=\"M253.053 1541.24 L257.938 1541.24 L257.938 1547.12 L253.053 1547.12 L253.053 1541.24 Z\" fill=\"#000000\" fill-rule=\"evenodd\" fill-opacity=\"1\" /><path clip-path=\"url(#clip870)\" d=\"M278.123 1515.64 Q274.512 1515.64 272.683 1519.2 Q270.877 1522.75 270.877 1529.87 Q270.877 1536.98 272.683 1540.55 Q274.512 1544.09 278.123 1544.09 Q281.757 1544.09 283.562 1540.55 Q285.391 1536.98 285.391 1529.87 Q285.391 1522.75 283.562 1519.2 Q281.757 1515.64 278.123 1515.64 M278.123 1511.93 Q283.933 1511.93 286.988 1516.54 Q290.067 1521.12 290.067 1529.87 Q290.067 1538.6 286.988 1543.21 Q283.933 1547.79 278.123 1547.79 Q272.312 1547.79 269.234 1543.21 Q266.178 1538.6 266.178 1529.87 Q266.178 1521.12 269.234 1516.54 Q272.312 1511.93 278.123 1511.93 Z\" fill=\"#000000\" fill-rule=\"evenodd\" fill-opacity=\"1\" /><path clip-path=\"url(#clip870)\" d=\"M637.394 1515.64 Q633.783 1515.64 631.954 1519.2 Q630.149 1522.75 630.149 1529.87 Q630.149 1536.98 631.954 1540.55 Q633.783 1544.09 637.394 1544.09 Q641.028 1544.09 642.834 1540.55 Q644.663 1536.98 644.663 1529.87 Q644.663 1522.75 642.834 1519.2 Q641.028 1515.64 637.394 1515.64 M637.394 1511.93 Q643.204 1511.93 646.26 1516.54 Q649.338 1521.12 649.338 1529.87 Q649.338 1538.6 646.26 1543.21 Q643.204 1547.79 637.394 1547.79 Q631.584 1547.79 628.505 1543.21 Q625.45 1538.6 625.45 1529.87 Q625.45 1521.12 628.505 1516.54 Q631.584 1511.93 637.394 1511.93 Z\" fill=\"#000000\" fill-rule=\"evenodd\" fill-opacity=\"1\" /><path clip-path=\"url(#clip870)\" d=\"M657.556 1541.24 L662.44 1541.24 L662.44 1547.12 L657.556 1547.12 L657.556 1541.24 Z\" fill=\"#000000\" fill-rule=\"evenodd\" fill-opacity=\"1\" /><path clip-path=\"url(#clip870)\" d=\"M673.436 1543.18 L681.074 1543.18 L681.074 1516.82 L672.764 1518.49 L672.764 1514.23 L681.028 1512.56 L685.704 1512.56 L685.704 1543.18 L693.343 1543.18 L693.343 1547.12 L673.436 1547.12 L673.436 1543.18 Z\" fill=\"#000000\" fill-rule=\"evenodd\" fill-opacity=\"1\" /><path clip-path=\"url(#clip870)\" d=\"M1041.47 1515.64 Q1037.86 1515.64 1036.03 1519.2 Q1034.22 1522.75 1034.22 1529.87 Q1034.22 1536.98 1036.03 1540.55 Q1037.86 1544.09 1041.47 1544.09 Q1045.1 1544.09 1046.91 1540.55 Q1048.74 1536.98 1048.74 1529.87 Q1048.74 1522.75 1046.91 1519.2 Q1045.1 1515.64 1041.47 1515.64 M1041.47 1511.93 Q1047.28 1511.93 1050.33 1516.54 Q1053.41 1521.12 1053.41 1529.87 Q1053.41 1538.6 1050.33 1543.21 Q1047.28 1547.79 1041.47 1547.79 Q1035.66 1547.79 1032.58 1543.21 Q1029.52 1538.6 1029.52 1529.87 Q1029.52 1521.12 1032.58 1516.54 Q1035.66 1511.93 1041.47 1511.93 Z\" fill=\"#000000\" fill-rule=\"evenodd\" fill-opacity=\"1\" /><path clip-path=\"url(#clip870)\" d=\"M1061.63 1541.24 L1066.51 1541.24 L1066.51 1547.12 L1061.63 1547.12 L1061.63 1541.24 Z\" fill=\"#000000\" fill-rule=\"evenodd\" fill-opacity=\"1\" /><path clip-path=\"url(#clip870)\" d=\"M1080.73 1543.18 L1097.05 1543.18 L1097.05 1547.12 L1075.1 1547.12 L1075.1 1543.18 Q1077.76 1540.43 1082.35 1535.8 Q1086.95 1531.15 1088.13 1529.81 Q1090.38 1527.28 1091.26 1525.55 Q1092.16 1523.79 1092.16 1522.1 Q1092.16 1519.34 1090.22 1517.61 Q1088.3 1515.87 1085.2 1515.87 Q1083 1515.87 1080.54 1516.63 Q1078.11 1517.4 1075.33 1518.95 L1075.33 1514.23 Q1078.16 1513.09 1080.61 1512.51 Q1083.07 1511.93 1085.1 1511.93 Q1090.47 1511.93 1093.67 1514.62 Q1096.86 1517.31 1096.86 1521.8 Q1096.86 1523.93 1096.05 1525.85 Q1095.26 1527.74 1093.16 1530.34 Q1092.58 1531.01 1089.48 1534.23 Q1086.38 1537.42 1080.73 1543.18 Z\" fill=\"#000000\" fill-rule=\"evenodd\" fill-opacity=\"1\" /><path clip-path=\"url(#clip870)\" d=\"M1444.88 1515.64 Q1441.27 1515.64 1439.44 1519.2 Q1437.64 1522.75 1437.64 1529.87 Q1437.64 1536.98 1439.44 1540.55 Q1441.27 1544.09 1444.88 1544.09 Q1448.52 1544.09 1450.32 1540.55 Q1452.15 1536.98 1452.15 1529.87 Q1452.15 1522.75 1450.32 1519.2 Q1448.52 1515.64 1444.88 1515.64 M1444.88 1511.93 Q1450.69 1511.93 1453.75 1516.54 Q1456.83 1521.12 1456.83 1529.87 Q1456.83 1538.6 1453.75 1543.21 Q1450.69 1547.79 1444.88 1547.79 Q1439.07 1547.79 1435.99 1543.21 Q1432.94 1538.6 1432.94 1529.87 Q1432.94 1521.12 1435.99 1516.54 Q1439.07 1511.93 1444.88 1511.93 Z\" fill=\"#000000\" fill-rule=\"evenodd\" fill-opacity=\"1\" /><path clip-path=\"url(#clip870)\" d=\"M1465.05 1541.24 L1469.93 1541.24 L1469.93 1547.12 L1465.05 1547.12 L1465.05 1541.24 Z\" fill=\"#000000\" fill-rule=\"evenodd\" fill-opacity=\"1\" /><path clip-path=\"url(#clip870)\" d=\"M1494.28 1528.49 Q1497.64 1529.2 1499.51 1531.47 Q1501.41 1533.74 1501.41 1537.07 Q1501.41 1542.19 1497.89 1544.99 Q1494.37 1547.79 1487.89 1547.79 Q1485.72 1547.79 1483.4 1547.35 Q1481.11 1546.93 1478.66 1546.08 L1478.66 1541.56 Q1480.6 1542.7 1482.92 1543.28 Q1485.23 1543.86 1487.75 1543.86 Q1492.15 1543.86 1494.44 1542.12 Q1496.76 1540.38 1496.76 1537.07 Q1496.76 1534.02 1494.61 1532.31 Q1492.48 1530.57 1488.66 1530.57 L1484.63 1530.57 L1484.63 1526.73 L1488.84 1526.73 Q1492.29 1526.73 1494.12 1525.36 Q1495.95 1523.97 1495.95 1521.38 Q1495.95 1518.72 1494.05 1517.31 Q1492.17 1515.87 1488.66 1515.87 Q1486.73 1515.87 1484.54 1516.29 Q1482.34 1516.7 1479.7 1517.58 L1479.7 1513.42 Q1482.36 1512.68 1484.67 1512.31 Q1487.01 1511.93 1489.07 1511.93 Q1494.4 1511.93 1497.5 1514.37 Q1500.6 1516.77 1500.6 1520.89 Q1500.6 1523.76 1498.96 1525.75 Q1497.31 1527.72 1494.28 1528.49 Z\" fill=\"#000000\" fill-rule=\"evenodd\" fill-opacity=\"1\" /><path clip-path=\"url(#clip870)\" d=\"M1848.21 1515.64 Q1844.59 1515.64 1842.77 1519.2 Q1840.96 1522.75 1840.96 1529.87 Q1840.96 1536.98 1842.77 1540.55 Q1844.59 1544.09 1848.21 1544.09 Q1851.84 1544.09 1853.65 1540.55 Q1855.47 1536.98 1855.47 1529.87 Q1855.47 1522.75 1853.65 1519.2 Q1851.84 1515.64 1848.21 1515.64 M1848.21 1511.93 Q1854.02 1511.93 1857.07 1516.54 Q1860.15 1521.12 1860.15 1529.87 Q1860.15 1538.6 1857.07 1543.21 Q1854.02 1547.79 1848.21 1547.79 Q1842.4 1547.79 1839.32 1543.21 Q1836.26 1538.6 1836.26 1529.87 Q1836.26 1521.12 1839.32 1516.54 Q1842.4 1511.93 1848.21 1511.93 Z\" fill=\"#000000\" fill-rule=\"evenodd\" fill-opacity=\"1\" /><path clip-path=\"url(#clip870)\" d=\"M1868.37 1541.24 L1873.25 1541.24 L1873.25 1547.12 L1868.37 1547.12 L1868.37 1541.24 Z\" fill=\"#000000\" fill-rule=\"evenodd\" fill-opacity=\"1\" /><path clip-path=\"url(#clip870)\" d=\"M1896.28 1516.63 L1884.48 1535.08 L1896.28 1535.08 L1896.28 1516.63 M1895.06 1512.56 L1900.94 1512.56 L1900.94 1535.08 L1905.87 1535.08 L1905.87 1538.97 L1900.94 1538.97 L1900.94 1547.12 L1896.28 1547.12 L1896.28 1538.97 L1880.68 1538.97 L1880.68 1534.46 L1895.06 1512.56 Z\" fill=\"#000000\" fill-rule=\"evenodd\" fill-opacity=\"1\" /><path clip-path=\"url(#clip870)\" d=\"M2252.84 1515.64 Q2249.22 1515.64 2247.4 1519.2 Q2245.59 1522.75 2245.59 1529.87 Q2245.59 1536.98 2247.4 1540.55 Q2249.22 1544.09 2252.84 1544.09 Q2256.47 1544.09 2258.28 1540.55 Q2260.1 1536.98 2260.1 1529.87 Q2260.1 1522.75 2258.28 1519.2 Q2256.47 1515.64 2252.84 1515.64 M2252.84 1511.93 Q2258.65 1511.93 2261.7 1516.54 Q2264.78 1521.12 2264.78 1529.87 Q2264.78 1538.6 2261.7 1543.21 Q2258.65 1547.79 2252.84 1547.79 Q2247.03 1547.79 2243.95 1543.21 Q2240.89 1538.6 2240.89 1529.87 Q2240.89 1521.12 2243.95 1516.54 Q2247.03 1511.93 2252.84 1511.93 Z\" fill=\"#000000\" fill-rule=\"evenodd\" fill-opacity=\"1\" /><path clip-path=\"url(#clip870)\" d=\"M2273 1541.24 L2277.88 1541.24 L2277.88 1547.12 L2273 1547.12 L2273 1541.24 Z\" fill=\"#000000\" fill-rule=\"evenodd\" fill-opacity=\"1\" /><path clip-path=\"url(#clip870)\" d=\"M2288.11 1512.56 L2306.47 1512.56 L2306.47 1516.5 L2292.4 1516.5 L2292.4 1524.97 Q2293.41 1524.62 2294.43 1524.46 Q2295.45 1524.27 2296.47 1524.27 Q2302.26 1524.27 2305.64 1527.44 Q2309.02 1530.62 2309.02 1536.03 Q2309.02 1541.61 2305.54 1544.71 Q2302.07 1547.79 2295.75 1547.79 Q2293.58 1547.79 2291.31 1547.42 Q2289.06 1547.05 2286.65 1546.31 L2286.65 1541.61 Q2288.74 1542.74 2290.96 1543.3 Q2293.18 1543.86 2295.66 1543.86 Q2299.66 1543.86 2302 1541.75 Q2304.34 1539.64 2304.34 1536.03 Q2304.34 1532.42 2302 1530.31 Q2299.66 1528.21 2295.66 1528.21 Q2293.78 1528.21 2291.91 1528.62 Q2290.06 1529.04 2288.11 1529.92 L2288.11 1512.56 Z\" fill=\"#000000\" fill-rule=\"evenodd\" fill-opacity=\"1\" /><polyline clip-path=\"url(#clip872)\" style=\"stroke:#000000; stroke-linecap:round; stroke-linejoin:round; stroke-width:2; stroke-opacity:0.1; fill:none\" points=\"\n",
       "  194.422,1345.16 2352.76,1345.16 \n",
       "  \"/>\n",
       "<polyline clip-path=\"url(#clip872)\" style=\"stroke:#000000; stroke-linecap:round; stroke-linejoin:round; stroke-width:2; stroke-opacity:0.1; fill:none\" points=\"\n",
       "  194.422,1055.67 2352.76,1055.67 \n",
       "  \"/>\n",
       "<polyline clip-path=\"url(#clip872)\" style=\"stroke:#000000; stroke-linecap:round; stroke-linejoin:round; stroke-width:2; stroke-opacity:0.1; fill:none\" points=\"\n",
       "  194.422,766.176 2352.76,766.176 \n",
       "  \"/>\n",
       "<polyline clip-path=\"url(#clip872)\" style=\"stroke:#000000; stroke-linecap:round; stroke-linejoin:round; stroke-width:2; stroke-opacity:0.1; fill:none\" points=\"\n",
       "  194.422,476.685 2352.76,476.685 \n",
       "  \"/>\n",
       "<polyline clip-path=\"url(#clip872)\" style=\"stroke:#000000; stroke-linecap:round; stroke-linejoin:round; stroke-width:2; stroke-opacity:0.1; fill:none\" points=\"\n",
       "  194.422,187.194 2352.76,187.194 \n",
       "  \"/>\n",
       "<polyline clip-path=\"url(#clip870)\" style=\"stroke:#000000; stroke-linecap:round; stroke-linejoin:round; stroke-width:4; stroke-opacity:1; fill:none\" points=\"\n",
       "  194.422,1486.45 194.422,47.2441 \n",
       "  \"/>\n",
       "<polyline clip-path=\"url(#clip870)\" style=\"stroke:#000000; stroke-linecap:round; stroke-linejoin:round; stroke-width:4; stroke-opacity:1; fill:none\" points=\"\n",
       "  194.422,1345.16 220.322,1345.16 \n",
       "  \"/>\n",
       "<polyline clip-path=\"url(#clip870)\" style=\"stroke:#000000; stroke-linecap:round; stroke-linejoin:round; stroke-width:4; stroke-opacity:1; fill:none\" points=\"\n",
       "  194.422,1055.67 220.322,1055.67 \n",
       "  \"/>\n",
       "<polyline clip-path=\"url(#clip870)\" style=\"stroke:#000000; stroke-linecap:round; stroke-linejoin:round; stroke-width:4; stroke-opacity:1; fill:none\" points=\"\n",
       "  194.422,766.176 220.322,766.176 \n",
       "  \"/>\n",
       "<polyline clip-path=\"url(#clip870)\" style=\"stroke:#000000; stroke-linecap:round; stroke-linejoin:round; stroke-width:4; stroke-opacity:1; fill:none\" points=\"\n",
       "  194.422,476.685 220.322,476.685 \n",
       "  \"/>\n",
       "<polyline clip-path=\"url(#clip870)\" style=\"stroke:#000000; stroke-linecap:round; stroke-linejoin:round; stroke-width:4; stroke-opacity:1; fill:none\" points=\"\n",
       "  194.422,187.194 220.322,187.194 \n",
       "  \"/>\n",
       "<path clip-path=\"url(#clip870)\" d=\"M50.9921 1345.61 L80.6679 1345.61 L80.6679 1349.54 L50.9921 1349.54 L50.9921 1345.61 Z\" fill=\"#000000\" fill-rule=\"evenodd\" fill-opacity=\"1\" /><path clip-path=\"url(#clip870)\" d=\"M100.76 1330.96 Q97.1493 1330.96 95.3206 1334.52 Q93.515 1338.06 93.515 1345.19 Q93.515 1352.3 95.3206 1355.86 Q97.1493 1359.41 100.76 1359.41 Q104.395 1359.41 106.2 1355.86 Q108.029 1352.3 108.029 1345.19 Q108.029 1338.06 106.2 1334.52 Q104.395 1330.96 100.76 1330.96 M100.76 1327.25 Q106.571 1327.25 109.626 1331.86 Q112.705 1336.44 112.705 1345.19 Q112.705 1353.92 109.626 1358.53 Q106.571 1363.11 100.76 1363.11 Q94.9502 1363.11 91.8715 1358.53 Q88.816 1353.92 88.816 1345.19 Q88.816 1336.44 91.8715 1331.86 Q94.9502 1327.25 100.76 1327.25 Z\" fill=\"#000000\" fill-rule=\"evenodd\" fill-opacity=\"1\" /><path clip-path=\"url(#clip870)\" d=\"M120.922 1356.56 L125.807 1356.56 L125.807 1362.44 L120.922 1362.44 L120.922 1356.56 Z\" fill=\"#000000\" fill-rule=\"evenodd\" fill-opacity=\"1\" /><path clip-path=\"url(#clip870)\" d=\"M148.839 1331.95 L137.033 1350.4 L148.839 1350.4 L148.839 1331.95 M147.612 1327.88 L153.492 1327.88 L153.492 1350.4 L158.422 1350.4 L158.422 1354.29 L153.492 1354.29 L153.492 1362.44 L148.839 1362.44 L148.839 1354.29 L133.237 1354.29 L133.237 1349.78 L147.612 1327.88 Z\" fill=\"#000000\" fill-rule=\"evenodd\" fill-opacity=\"1\" /><path clip-path=\"url(#clip870)\" d=\"M52.1264 1056.12 L81.8021 1056.12 L81.8021 1060.05 L52.1264 1060.05 L52.1264 1056.12 Z\" fill=\"#000000\" fill-rule=\"evenodd\" fill-opacity=\"1\" /><path clip-path=\"url(#clip870)\" d=\"M101.895 1041.47 Q98.2835 1041.47 96.4548 1045.03 Q94.6493 1048.57 94.6493 1055.7 Q94.6493 1062.81 96.4548 1066.37 Q98.2835 1069.91 101.895 1069.91 Q105.529 1069.91 107.334 1066.37 Q109.163 1062.81 109.163 1055.7 Q109.163 1048.57 107.334 1045.03 Q105.529 1041.47 101.895 1041.47 M101.895 1037.76 Q107.705 1037.76 110.76 1042.37 Q113.839 1046.95 113.839 1055.7 Q113.839 1064.43 110.76 1069.04 Q107.705 1073.62 101.895 1073.62 Q96.0845 1073.62 93.0058 1069.04 Q89.9503 1064.43 89.9503 1055.7 Q89.9503 1046.95 93.0058 1042.37 Q96.0845 1037.76 101.895 1037.76 Z\" fill=\"#000000\" fill-rule=\"evenodd\" fill-opacity=\"1\" /><path clip-path=\"url(#clip870)\" d=\"M122.057 1067.07 L126.941 1067.07 L126.941 1072.95 L122.057 1072.95 L122.057 1067.07 Z\" fill=\"#000000\" fill-rule=\"evenodd\" fill-opacity=\"1\" /><path clip-path=\"url(#clip870)\" d=\"M151.293 1054.31 Q154.649 1055.03 156.524 1057.3 Q158.422 1059.57 158.422 1062.9 Q158.422 1068.02 154.904 1070.82 Q151.385 1073.62 144.904 1073.62 Q142.728 1073.62 140.413 1073.18 Q138.121 1072.76 135.668 1071.91 L135.668 1067.39 Q137.612 1068.53 139.927 1069.1 Q142.242 1069.68 144.765 1069.68 Q149.163 1069.68 151.455 1067.95 Q153.769 1066.21 153.769 1062.9 Q153.769 1059.85 151.617 1058.13 Q149.487 1056.4 145.668 1056.4 L141.64 1056.4 L141.64 1052.55 L145.853 1052.55 Q149.302 1052.55 151.13 1051.19 Q152.959 1049.8 152.959 1047.21 Q152.959 1044.54 151.061 1043.13 Q149.186 1041.7 145.668 1041.7 Q143.746 1041.7 141.547 1042.11 Q139.348 1042.53 136.709 1043.41 L136.709 1039.24 Q139.371 1038.5 141.686 1038.13 Q144.024 1037.76 146.084 1037.76 Q151.408 1037.76 154.51 1040.19 Q157.612 1042.6 157.612 1046.72 Q157.612 1049.59 155.968 1051.58 Q154.325 1053.55 151.293 1054.31 Z\" fill=\"#000000\" fill-rule=\"evenodd\" fill-opacity=\"1\" /><path clip-path=\"url(#clip870)\" d=\"M53.0754 766.628 L82.7512 766.628 L82.7512 770.563 L53.0754 770.563 L53.0754 766.628 Z\" fill=\"#000000\" fill-rule=\"evenodd\" fill-opacity=\"1\" /><path clip-path=\"url(#clip870)\" d=\"M102.844 751.975 Q99.2326 751.975 97.4039 755.54 Q95.5984 759.081 95.5984 766.211 Q95.5984 773.318 97.4039 776.882 Q99.2326 780.424 102.844 780.424 Q106.478 780.424 108.283 776.882 Q110.112 773.318 110.112 766.211 Q110.112 759.081 108.283 755.54 Q106.478 751.975 102.844 751.975 M102.844 748.271 Q108.654 748.271 111.709 752.878 Q114.788 757.461 114.788 766.211 Q114.788 774.938 111.709 779.544 Q108.654 784.128 102.844 784.128 Q97.0335 784.128 93.9549 779.544 Q90.8993 774.938 90.8993 766.211 Q90.8993 757.461 93.9549 752.878 Q97.0335 748.271 102.844 748.271 Z\" fill=\"#000000\" fill-rule=\"evenodd\" fill-opacity=\"1\" /><path clip-path=\"url(#clip870)\" d=\"M123.006 777.577 L127.89 777.577 L127.89 783.456 L123.006 783.456 L123.006 777.577 Z\" fill=\"#000000\" fill-rule=\"evenodd\" fill-opacity=\"1\" /><path clip-path=\"url(#clip870)\" d=\"M142.103 779.521 L158.422 779.521 L158.422 783.456 L136.478 783.456 L136.478 779.521 Q139.14 776.767 143.723 772.137 Q148.33 767.484 149.51 766.142 Q151.755 763.618 152.635 761.882 Q153.538 760.123 153.538 758.433 Q153.538 755.679 151.593 753.943 Q149.672 752.207 146.57 752.207 Q144.371 752.207 141.918 752.97 Q139.487 753.734 136.709 755.285 L136.709 750.563 Q139.533 749.429 141.987 748.85 Q144.441 748.271 146.478 748.271 Q151.848 748.271 155.042 750.957 Q158.237 753.642 158.237 758.132 Q158.237 760.262 157.427 762.183 Q156.64 764.081 154.533 766.674 Q153.955 767.345 150.853 770.563 Q147.751 773.757 142.103 779.521 Z\" fill=\"#000000\" fill-rule=\"evenodd\" fill-opacity=\"1\" /><path clip-path=\"url(#clip870)\" d=\"M52.7051 477.137 L82.3808 477.137 L82.3808 481.072 L52.7051 481.072 L52.7051 477.137 Z\" fill=\"#000000\" fill-rule=\"evenodd\" fill-opacity=\"1\" /><path clip-path=\"url(#clip870)\" d=\"M102.473 462.484 Q98.8622 462.484 97.0335 466.049 Q95.228 469.591 95.228 476.72 Q95.228 483.827 97.0335 487.391 Q98.8622 490.933 102.473 490.933 Q106.108 490.933 107.913 487.391 Q109.742 483.827 109.742 476.72 Q109.742 469.591 107.913 466.049 Q106.108 462.484 102.473 462.484 M102.473 458.78 Q108.283 458.78 111.339 463.387 Q114.418 467.97 114.418 476.72 Q114.418 485.447 111.339 490.053 Q108.283 494.637 102.473 494.637 Q96.6632 494.637 93.5845 490.053 Q90.529 485.447 90.529 476.72 Q90.529 467.97 93.5845 463.387 Q96.6632 458.78 102.473 458.78 Z\" fill=\"#000000\" fill-rule=\"evenodd\" fill-opacity=\"1\" /><path clip-path=\"url(#clip870)\" d=\"M122.635 488.086 L127.519 488.086 L127.519 493.965 L122.635 493.965 L122.635 488.086 Z\" fill=\"#000000\" fill-rule=\"evenodd\" fill-opacity=\"1\" /><path clip-path=\"url(#clip870)\" d=\"M138.515 490.03 L146.154 490.03 L146.154 463.665 L137.844 465.331 L137.844 461.072 L146.107 459.405 L150.783 459.405 L150.783 490.03 L158.422 490.03 L158.422 493.965 L138.515 493.965 L138.515 490.03 Z\" fill=\"#000000\" fill-rule=\"evenodd\" fill-opacity=\"1\" /><path clip-path=\"url(#clip870)\" d=\"M101.246 172.993 Q97.6354 172.993 95.8067 176.558 Q94.0012 180.1 94.0012 187.229 Q94.0012 194.336 95.8067 197.9 Q97.6354 201.442 101.246 201.442 Q104.881 201.442 106.686 197.9 Q108.515 194.336 108.515 187.229 Q108.515 180.1 106.686 176.558 Q104.881 172.993 101.246 172.993 M101.246 169.289 Q107.057 169.289 110.112 173.896 Q113.191 178.479 113.191 187.229 Q113.191 195.956 110.112 200.562 Q107.057 205.146 101.246 205.146 Q95.4363 205.146 92.3576 200.562 Q89.3021 195.956 89.3021 187.229 Q89.3021 178.479 92.3576 173.896 Q95.4363 169.289 101.246 169.289 Z\" fill=\"#000000\" fill-rule=\"evenodd\" fill-opacity=\"1\" /><path clip-path=\"url(#clip870)\" d=\"M121.408 198.595 L126.293 198.595 L126.293 204.474 L121.408 204.474 L121.408 198.595 Z\" fill=\"#000000\" fill-rule=\"evenodd\" fill-opacity=\"1\" /><path clip-path=\"url(#clip870)\" d=\"M146.478 172.993 Q142.867 172.993 141.038 176.558 Q139.232 180.1 139.232 187.229 Q139.232 194.336 141.038 197.9 Q142.867 201.442 146.478 201.442 Q150.112 201.442 151.918 197.9 Q153.746 194.336 153.746 187.229 Q153.746 180.1 151.918 176.558 Q150.112 172.993 146.478 172.993 M146.478 169.289 Q152.288 169.289 155.343 173.896 Q158.422 178.479 158.422 187.229 Q158.422 195.956 155.343 200.562 Q152.288 205.146 146.478 205.146 Q140.668 205.146 137.589 200.562 Q134.533 195.956 134.533 187.229 Q134.533 178.479 137.589 173.896 Q140.668 169.289 146.478 169.289 Z\" fill=\"#000000\" fill-rule=\"evenodd\" fill-opacity=\"1\" /><polyline clip-path=\"url(#clip872)\" style=\"stroke:#009af9; stroke-linecap:round; stroke-linejoin:round; stroke-width:4; stroke-opacity:1; fill:none\" points=\"\n",
       "  255.507,187.194 1646.52,1445.72 2291.67,87.9763 1516.51,1289.89 255.507,187.194 \n",
       "  \"/>\n",
       "<path clip-path=\"url(#clip870)\" d=\"\n",
       "M1988.57 216.178 L2280.81 216.178 L2280.81 95.2176 L1988.57 95.2176  Z\n",
       "  \" fill=\"#ffffff\" fill-rule=\"evenodd\" fill-opacity=\"1\"/>\n",
       "<polyline clip-path=\"url(#clip870)\" style=\"stroke:#000000; stroke-linecap:round; stroke-linejoin:round; stroke-width:4; stroke-opacity:1; fill:none\" points=\"\n",
       "  1988.57,216.178 2280.81,216.178 2280.81,95.2176 1988.57,95.2176 1988.57,216.178 \n",
       "  \"/>\n",
       "<polyline clip-path=\"url(#clip870)\" style=\"stroke:#009af9; stroke-linecap:round; stroke-linejoin:round; stroke-width:4; stroke-opacity:1; fill:none\" points=\"\n",
       "  2012.55,155.698 2156.44,155.698 \n",
       "  \"/>\n",
       "<path clip-path=\"url(#clip870)\" d=\"M2194.26 175.385 Q2192.46 180.015 2190.74 181.427 Q2189.03 182.839 2186.16 182.839 L2182.76 182.839 L2182.76 179.274 L2185.26 179.274 Q2187.02 179.274 2187.99 178.44 Q2188.96 177.607 2190.14 174.505 L2190.9 172.561 L2180.42 147.052 L2184.93 147.052 L2193.03 167.329 L2201.14 147.052 L2205.65 147.052 L2194.26 175.385 Z\" fill=\"#000000\" fill-rule=\"evenodd\" fill-opacity=\"1\" /><path clip-path=\"url(#clip870)\" d=\"M2212.94 169.042 L2220.58 169.042 L2220.58 142.677 L2212.27 144.343 L2212.27 140.084 L2220.53 138.418 L2225.21 138.418 L2225.21 169.042 L2232.85 169.042 L2232.85 172.978 L2212.94 172.978 L2212.94 169.042 Z\" fill=\"#000000\" fill-rule=\"evenodd\" fill-opacity=\"1\" /></svg>\n"
      ]
     },
     "execution_count": 438,
     "metadata": {},
     "output_type": "execute_result"
    }
   ],
   "source": [
    "A=randn(4,2)\n",
    "Q,=qr(A)\n",
    "x=Q[:,1]\n",
    "y=Q[:,2]\n",
    "z=x+im*y\n",
    "e=z.^2\n",
    "print(norm(e[1]+e[2]+e[3]+e[4]),\"\\n\")\n",
    "print(norm(e[1])+norm(e[2])+norm(e[3])+norm(e[4]))\n",
    "E=[real(e)' ; imag(e)']\n",
    "points=[zeros(2,1) E[:,1] E[:,1] E[:,1]+E[:,2] E[:,1]+E[:,2] E[:,1]+E[:,2]+E[:,3] E[:,1]+E[:,2]+E[:,3] E[:,1]+E[:,2]+E[:,3]+E[:,4]]\n",
    "plot(points[1,:],points[2,:])"
   ]
  },
  {
   "cell_type": "code",
   "execution_count": null,
   "metadata": {},
   "outputs": [],
   "source": []
  },
  {
   "cell_type": "code",
   "execution_count": null,
   "metadata": {
    "scrolled": false
   },
   "outputs": [],
   "source": []
  },
  {
   "cell_type": "code",
   "execution_count": null,
   "metadata": {
    "scrolled": true
   },
   "outputs": [],
   "source": [
    "plot([5, 1, 1, 3, 3,5],[6, 1, 1, 4,4, 6])"
   ]
  },
  {
   "cell_type": "code",
   "execution_count": 64,
   "metadata": {
    "scrolled": true
   },
   "outputs": [
    {
     "data": {
      "text/plain": [
       "2×6 Matrix{Int64}:\n",
       " 5  1  1  3  3  5\n",
       " 6  1  1  4  4  6"
      ]
     },
     "execution_count": 64,
     "metadata": {},
     "output_type": "execute_result"
    }
   ],
   "source": [
    "points=[5 1 1 3 3 5;\n",
    " 6 1 1 4 4 6]"
   ]
  },
  {
   "cell_type": "code",
   "execution_count": 68,
   "metadata": {
    "scrolled": true
   },
   "outputs": [
    {
     "data": {
      "image/svg+xml": [
       "<?xml version=\"1.0\" encoding=\"utf-8\"?>\n",
       "<svg xmlns=\"http://www.w3.org/2000/svg\" xmlns:xlink=\"http://www.w3.org/1999/xlink\" width=\"600\" height=\"400\" viewBox=\"0 0 2400 1600\">\n",
       "<defs>\n",
       "  <clipPath id=\"clip260\">\n",
       "    <rect x=\"0\" y=\"0\" width=\"2400\" height=\"1600\"/>\n",
       "  </clipPath>\n",
       "</defs>\n",
       "<path clip-path=\"url(#clip260)\" d=\"\n",
       "M0 1600 L2400 1600 L2400 0 L0 0  Z\n",
       "  \" fill=\"#ffffff\" fill-rule=\"evenodd\" fill-opacity=\"1\"/>\n",
       "<defs>\n",
       "  <clipPath id=\"clip261\">\n",
       "    <rect x=\"480\" y=\"0\" width=\"1681\" height=\"1600\"/>\n",
       "  </clipPath>\n",
       "</defs>\n",
       "<path clip-path=\"url(#clip260)\" d=\"\n",
       "M112.177 1486.45 L2352.76 1486.45 L2352.76 47.2441 L112.177 47.2441  Z\n",
       "  \" fill=\"#ffffff\" fill-rule=\"evenodd\" fill-opacity=\"1\"/>\n",
       "<defs>\n",
       "  <clipPath id=\"clip262\">\n",
       "    <rect x=\"112\" y=\"47\" width=\"2242\" height=\"1440\"/>\n",
       "  </clipPath>\n",
       "</defs>\n",
       "<polyline clip-path=\"url(#clip262)\" style=\"stroke:#000000; stroke-linecap:round; stroke-linejoin:round; stroke-width:2; stroke-opacity:0.1; fill:none\" points=\"\n",
       "  175.59,1486.45 175.59,47.2441 \n",
       "  \"/>\n",
       "<polyline clip-path=\"url(#clip262)\" style=\"stroke:#000000; stroke-linecap:round; stroke-linejoin:round; stroke-width:2; stroke-opacity:0.1; fill:none\" points=\"\n",
       "  704.028,1486.45 704.028,47.2441 \n",
       "  \"/>\n",
       "<polyline clip-path=\"url(#clip262)\" style=\"stroke:#000000; stroke-linecap:round; stroke-linejoin:round; stroke-width:2; stroke-opacity:0.1; fill:none\" points=\"\n",
       "  1232.47,1486.45 1232.47,47.2441 \n",
       "  \"/>\n",
       "<polyline clip-path=\"url(#clip262)\" style=\"stroke:#000000; stroke-linecap:round; stroke-linejoin:round; stroke-width:2; stroke-opacity:0.1; fill:none\" points=\"\n",
       "  1760.9,1486.45 1760.9,47.2441 \n",
       "  \"/>\n",
       "<polyline clip-path=\"url(#clip262)\" style=\"stroke:#000000; stroke-linecap:round; stroke-linejoin:round; stroke-width:2; stroke-opacity:0.1; fill:none\" points=\"\n",
       "  2289.34,1486.45 2289.34,47.2441 \n",
       "  \"/>\n",
       "<polyline clip-path=\"url(#clip260)\" style=\"stroke:#000000; stroke-linecap:round; stroke-linejoin:round; stroke-width:4; stroke-opacity:1; fill:none\" points=\"\n",
       "  112.177,1486.45 2352.76,1486.45 \n",
       "  \"/>\n",
       "<polyline clip-path=\"url(#clip260)\" style=\"stroke:#000000; stroke-linecap:round; stroke-linejoin:round; stroke-width:4; stroke-opacity:1; fill:none\" points=\"\n",
       "  175.59,1486.45 175.59,1469.18 \n",
       "  \"/>\n",
       "<polyline clip-path=\"url(#clip260)\" style=\"stroke:#000000; stroke-linecap:round; stroke-linejoin:round; stroke-width:4; stroke-opacity:1; fill:none\" points=\"\n",
       "  704.028,1486.45 704.028,1469.18 \n",
       "  \"/>\n",
       "<polyline clip-path=\"url(#clip260)\" style=\"stroke:#000000; stroke-linecap:round; stroke-linejoin:round; stroke-width:4; stroke-opacity:1; fill:none\" points=\"\n",
       "  1232.47,1486.45 1232.47,1469.18 \n",
       "  \"/>\n",
       "<polyline clip-path=\"url(#clip260)\" style=\"stroke:#000000; stroke-linecap:round; stroke-linejoin:round; stroke-width:4; stroke-opacity:1; fill:none\" points=\"\n",
       "  1760.9,1486.45 1760.9,1469.18 \n",
       "  \"/>\n",
       "<polyline clip-path=\"url(#clip260)\" style=\"stroke:#000000; stroke-linecap:round; stroke-linejoin:round; stroke-width:4; stroke-opacity:1; fill:none\" points=\"\n",
       "  2289.34,1486.45 2289.34,1469.18 \n",
       "  \"/>\n",
       "<path clip-path=\"url(#clip260)\" d=\"M165.972 1543.18 L173.611 1543.18 L173.611 1516.82 L165.3 1518.49 L165.3 1514.23 L173.564 1512.56 L178.24 1512.56 L178.24 1543.18 L185.879 1543.18 L185.879 1547.12 L165.972 1547.12 L165.972 1543.18 Z\" fill=\"#000000\" fill-rule=\"evenodd\" fill-opacity=\"1\" /><path clip-path=\"url(#clip260)\" d=\"M698.681 1543.18 L715 1543.18 L715 1547.12 L693.056 1547.12 L693.056 1543.18 Q695.718 1540.43 700.301 1535.8 Q704.908 1531.15 706.088 1529.81 Q708.334 1527.28 709.213 1525.55 Q710.116 1523.79 710.116 1522.1 Q710.116 1519.34 708.172 1517.61 Q706.25 1515.87 703.149 1515.87 Q700.949 1515.87 698.496 1516.63 Q696.065 1517.4 693.287 1518.95 L693.287 1514.23 Q696.112 1513.09 698.565 1512.51 Q701.019 1511.93 703.056 1511.93 Q708.426 1511.93 711.621 1514.62 Q714.815 1517.31 714.815 1521.8 Q714.815 1523.93 714.005 1525.85 Q713.218 1527.74 711.111 1530.34 Q710.533 1531.01 707.431 1534.23 Q704.329 1537.42 698.681 1543.18 Z\" fill=\"#000000\" fill-rule=\"evenodd\" fill-opacity=\"1\" /><path clip-path=\"url(#clip260)\" d=\"M1236.71 1528.49 Q1240.07 1529.2 1241.95 1531.47 Q1243.84 1533.74 1243.84 1537.07 Q1243.84 1542.19 1240.33 1544.99 Q1236.81 1547.79 1230.33 1547.79 Q1228.15 1547.79 1225.83 1547.35 Q1223.54 1546.93 1221.09 1546.08 L1221.09 1541.56 Q1223.03 1542.7 1225.35 1543.28 Q1227.66 1543.86 1230.19 1543.86 Q1234.58 1543.86 1236.88 1542.12 Q1239.19 1540.38 1239.19 1537.07 Q1239.19 1534.02 1237.04 1532.31 Q1234.91 1530.57 1231.09 1530.57 L1227.06 1530.57 L1227.06 1526.73 L1231.27 1526.73 Q1234.72 1526.73 1236.55 1525.36 Q1238.38 1523.97 1238.38 1521.38 Q1238.38 1518.72 1236.48 1517.31 Q1234.61 1515.87 1231.09 1515.87 Q1229.17 1515.87 1226.97 1516.29 Q1224.77 1516.7 1222.13 1517.58 L1222.13 1513.42 Q1224.79 1512.68 1227.11 1512.31 Q1229.45 1511.93 1231.51 1511.93 Q1236.83 1511.93 1239.93 1514.37 Q1243.03 1516.77 1243.03 1520.89 Q1243.03 1523.76 1241.39 1525.75 Q1239.75 1527.72 1236.71 1528.49 Z\" fill=\"#000000\" fill-rule=\"evenodd\" fill-opacity=\"1\" /><path clip-path=\"url(#clip260)\" d=\"M1763.91 1516.63 L1752.11 1535.08 L1763.91 1535.08 L1763.91 1516.63 M1762.69 1512.56 L1768.57 1512.56 L1768.57 1535.08 L1773.5 1535.08 L1773.5 1538.97 L1768.57 1538.97 L1768.57 1547.12 L1763.91 1547.12 L1763.91 1538.97 L1748.31 1538.97 L1748.31 1534.46 L1762.69 1512.56 Z\" fill=\"#000000\" fill-rule=\"evenodd\" fill-opacity=\"1\" /><path clip-path=\"url(#clip260)\" d=\"M2279.62 1512.56 L2297.98 1512.56 L2297.98 1516.5 L2283.9 1516.5 L2283.9 1524.97 Q2284.92 1524.62 2285.94 1524.46 Q2286.96 1524.27 2287.98 1524.27 Q2293.76 1524.27 2297.14 1527.44 Q2300.52 1530.62 2300.52 1536.03 Q2300.52 1541.61 2297.05 1544.71 Q2293.58 1547.79 2287.26 1547.79 Q2285.08 1547.79 2282.82 1547.42 Q2280.57 1547.05 2278.16 1546.31 L2278.16 1541.61 Q2280.25 1542.74 2282.47 1543.3 Q2284.69 1543.86 2287.17 1543.86 Q2291.17 1543.86 2293.51 1541.75 Q2295.85 1539.64 2295.85 1536.03 Q2295.85 1532.42 2293.51 1530.31 Q2291.17 1528.21 2287.17 1528.21 Q2285.29 1528.21 2283.42 1528.62 Q2281.57 1529.04 2279.62 1529.92 L2279.62 1512.56 Z\" fill=\"#000000\" fill-rule=\"evenodd\" fill-opacity=\"1\" /><polyline clip-path=\"url(#clip262)\" style=\"stroke:#000000; stroke-linecap:round; stroke-linejoin:round; stroke-width:2; stroke-opacity:0.1; fill:none\" points=\"\n",
       "  112.177,1445.72 2352.76,1445.72 \n",
       "  \"/>\n",
       "<polyline clip-path=\"url(#clip262)\" style=\"stroke:#000000; stroke-linecap:round; stroke-linejoin:round; stroke-width:2; stroke-opacity:0.1; fill:none\" points=\"\n",
       "  112.177,1174.17 2352.76,1174.17 \n",
       "  \"/>\n",
       "<polyline clip-path=\"url(#clip262)\" style=\"stroke:#000000; stroke-linecap:round; stroke-linejoin:round; stroke-width:2; stroke-opacity:0.1; fill:none\" points=\"\n",
       "  112.177,902.62 2352.76,902.62 \n",
       "  \"/>\n",
       "<polyline clip-path=\"url(#clip262)\" style=\"stroke:#000000; stroke-linecap:round; stroke-linejoin:round; stroke-width:2; stroke-opacity:0.1; fill:none\" points=\"\n",
       "  112.177,631.072 2352.76,631.072 \n",
       "  \"/>\n",
       "<polyline clip-path=\"url(#clip262)\" style=\"stroke:#000000; stroke-linecap:round; stroke-linejoin:round; stroke-width:2; stroke-opacity:0.1; fill:none\" points=\"\n",
       "  112.177,359.524 2352.76,359.524 \n",
       "  \"/>\n",
       "<polyline clip-path=\"url(#clip262)\" style=\"stroke:#000000; stroke-linecap:round; stroke-linejoin:round; stroke-width:2; stroke-opacity:0.1; fill:none\" points=\"\n",
       "  112.177,87.9763 2352.76,87.9763 \n",
       "  \"/>\n",
       "<polyline clip-path=\"url(#clip260)\" style=\"stroke:#000000; stroke-linecap:round; stroke-linejoin:round; stroke-width:4; stroke-opacity:1; fill:none\" points=\"\n",
       "  112.177,1486.45 112.177,47.2441 \n",
       "  \"/>\n",
       "<polyline clip-path=\"url(#clip260)\" style=\"stroke:#000000; stroke-linecap:round; stroke-linejoin:round; stroke-width:4; stroke-opacity:1; fill:none\" points=\"\n",
       "  112.177,1445.72 139.064,1445.72 \n",
       "  \"/>\n",
       "<polyline clip-path=\"url(#clip260)\" style=\"stroke:#000000; stroke-linecap:round; stroke-linejoin:round; stroke-width:4; stroke-opacity:1; fill:none\" points=\"\n",
       "  112.177,1174.17 139.064,1174.17 \n",
       "  \"/>\n",
       "<polyline clip-path=\"url(#clip260)\" style=\"stroke:#000000; stroke-linecap:round; stroke-linejoin:round; stroke-width:4; stroke-opacity:1; fill:none\" points=\"\n",
       "  112.177,902.62 139.064,902.62 \n",
       "  \"/>\n",
       "<polyline clip-path=\"url(#clip260)\" style=\"stroke:#000000; stroke-linecap:round; stroke-linejoin:round; stroke-width:4; stroke-opacity:1; fill:none\" points=\"\n",
       "  112.177,631.072 139.064,631.072 \n",
       "  \"/>\n",
       "<polyline clip-path=\"url(#clip260)\" style=\"stroke:#000000; stroke-linecap:round; stroke-linejoin:round; stroke-width:4; stroke-opacity:1; fill:none\" points=\"\n",
       "  112.177,359.524 139.064,359.524 \n",
       "  \"/>\n",
       "<polyline clip-path=\"url(#clip260)\" style=\"stroke:#000000; stroke-linecap:round; stroke-linejoin:round; stroke-width:4; stroke-opacity:1; fill:none\" points=\"\n",
       "  112.177,87.9763 139.064,87.9763 \n",
       "  \"/>\n",
       "<path clip-path=\"url(#clip260)\" d=\"M56.2699 1459.06 L63.9087 1459.06 L63.9087 1432.69 L55.5986 1434.36 L55.5986 1430.1 L63.8624 1428.44 L68.5383 1428.44 L68.5383 1459.06 L76.1772 1459.06 L76.1772 1463 L56.2699 1463 L56.2699 1459.06 Z\" fill=\"#000000\" fill-rule=\"evenodd\" fill-opacity=\"1\" /><path clip-path=\"url(#clip260)\" d=\"M59.8578 1187.51 L76.1772 1187.51 L76.1772 1191.45 L54.2328 1191.45 L54.2328 1187.51 Q56.8949 1184.76 61.4782 1180.13 Q66.0846 1175.48 67.2652 1174.13 Q69.5105 1171.61 70.3902 1169.87 Q71.2929 1168.11 71.2929 1166.42 Q71.2929 1163.67 69.3485 1161.93 Q67.4272 1160.2 64.3254 1160.2 Q62.1263 1160.2 59.6726 1160.96 Q57.2421 1161.73 54.4643 1163.28 L54.4643 1158.55 Q57.2884 1157.42 59.7421 1156.84 Q62.1958 1156.26 64.2328 1156.26 Q69.6031 1156.26 72.7976 1158.95 Q75.992 1161.63 75.992 1166.12 Q75.992 1168.25 75.1818 1170.17 Q74.3948 1172.07 72.2883 1174.67 Q71.7096 1175.34 68.6078 1178.55 Q65.5059 1181.75 59.8578 1187.51 Z\" fill=\"#000000\" fill-rule=\"evenodd\" fill-opacity=\"1\" /><path clip-path=\"url(#clip260)\" d=\"M69.0476 901.266 Q72.404 901.983 74.279 904.252 Q76.1772 906.52 76.1772 909.854 Q76.1772 914.969 72.6587 917.77 Q69.1402 920.571 62.6587 920.571 Q60.4828 920.571 58.168 920.131 Q55.8764 919.715 53.4227 918.858 L53.4227 914.344 Q55.3671 915.479 57.6819 916.057 Q59.9967 916.636 62.5198 916.636 Q66.918 916.636 69.2096 914.9 Q71.5244 913.164 71.5244 909.854 Q71.5244 906.798 69.3717 905.085 Q67.242 903.349 63.4226 903.349 L59.3949 903.349 L59.3949 899.507 L63.6078 899.507 Q67.0569 899.507 68.8855 898.141 Q70.7142 896.752 70.7142 894.159 Q70.7142 891.497 68.8161 890.085 Q66.9411 888.65 63.4226 888.65 Q61.5013 888.65 59.3023 889.067 Q57.1032 889.483 54.4643 890.363 L54.4643 886.196 Q57.1264 885.456 59.4412 885.085 Q61.7791 884.715 63.8393 884.715 Q69.1633 884.715 72.2652 887.145 Q75.367 889.553 75.367 893.673 Q75.367 896.544 73.7235 898.534 Q72.08 900.502 69.0476 901.266 Z\" fill=\"#000000\" fill-rule=\"evenodd\" fill-opacity=\"1\" /><path clip-path=\"url(#clip260)\" d=\"M66.5939 617.866 L54.7884 636.315 L66.5939 636.315 L66.5939 617.866 M65.367 613.792 L71.2466 613.792 L71.2466 636.315 L76.1772 636.315 L76.1772 640.204 L71.2466 640.204 L71.2466 648.352 L66.5939 648.352 L66.5939 640.204 L50.9921 640.204 L50.9921 635.69 L65.367 613.792 Z\" fill=\"#000000\" fill-rule=\"evenodd\" fill-opacity=\"1\" /><path clip-path=\"url(#clip260)\" d=\"M55.2745 342.244 L73.6309 342.244 L73.6309 346.179 L59.5569 346.179 L59.5569 354.652 Q60.5754 354.304 61.5939 354.142 Q62.6124 353.957 63.6309 353.957 Q69.418 353.957 72.7976 357.128 Q76.1772 360.3 76.1772 365.716 Q76.1772 371.295 72.705 374.397 Q69.2328 377.475 62.9134 377.475 Q60.7374 377.475 58.4689 377.105 Q56.2236 376.735 53.8162 375.994 L53.8162 371.295 Q55.8995 372.429 58.1217 372.985 Q60.3439 373.54 62.8208 373.54 Q66.8254 373.54 69.1633 371.434 Q71.5013 369.327 71.5013 365.716 Q71.5013 362.105 69.1633 359.999 Q66.8254 357.892 62.8208 357.892 Q60.9458 357.892 59.0708 358.309 Q57.2189 358.726 55.2745 359.605 L55.2745 342.244 Z\" fill=\"#000000\" fill-rule=\"evenodd\" fill-opacity=\"1\" /><path clip-path=\"url(#clip260)\" d=\"M64.6495 86.1129 Q61.5013 86.1129 59.6495 88.2656 Q57.8208 90.4184 57.8208 94.1684 Q57.8208 97.8952 59.6495 100.071 Q61.5013 102.224 64.6495 102.224 Q67.7976 102.224 69.6263 100.071 Q71.4781 97.8952 71.4781 94.1684 Q71.4781 90.4184 69.6263 88.2656 Q67.7976 86.1129 64.6495 86.1129 M73.9318 71.4602 L73.9318 75.7194 Q72.1726 74.8861 70.367 74.4463 Q68.5846 74.0064 66.8254 74.0064 Q62.1958 74.0064 59.7421 77.1314 Q57.3115 80.2564 56.9643 86.5758 Q58.33 84.5619 60.3902 83.4971 Q62.4504 82.4092 64.9272 82.4092 Q70.1355 82.4092 73.1448 85.5805 Q76.1772 88.7286 76.1772 94.1684 Q76.1772 99.4924 73.029 102.71 Q69.8809 105.928 64.6495 105.928 Q58.6541 105.928 55.4828 101.344 Q52.3116 96.7378 52.3116 88.011 Q52.3116 79.8166 56.2004 74.9555 Q60.0893 70.0713 66.6402 70.0713 Q68.3994 70.0713 70.1818 70.4185 Q71.9874 70.7657 73.9318 71.4602 Z\" fill=\"#000000\" fill-rule=\"evenodd\" fill-opacity=\"1\" /><polyline clip-path=\"url(#clip262)\" style=\"stroke:#009af9; stroke-linecap:round; stroke-linejoin:round; stroke-width:4; stroke-opacity:1; fill:none\" points=\"\n",
       "  2289.34,87.9763 175.59,1445.72 1232.47,631.072 2289.34,87.9763 \n",
       "  \"/>\n",
       "<path clip-path=\"url(#clip260)\" d=\"\n",
       "M1976.69 216.178 L2278.07 216.178 L2278.07 95.2176 L1976.69 95.2176  Z\n",
       "  \" fill=\"#ffffff\" fill-rule=\"evenodd\" fill-opacity=\"1\"/>\n",
       "<polyline clip-path=\"url(#clip260)\" style=\"stroke:#000000; stroke-linecap:round; stroke-linejoin:round; stroke-width:4; stroke-opacity:1; fill:none\" points=\"\n",
       "  1976.69,216.178 2278.07,216.178 2278.07,95.2176 1976.69,95.2176 1976.69,216.178 \n",
       "  \"/>\n",
       "<polyline clip-path=\"url(#clip260)\" style=\"stroke:#009af9; stroke-linecap:round; stroke-linejoin:round; stroke-width:4; stroke-opacity:1; fill:none\" points=\"\n",
       "  2001.58,155.698 2150.95,155.698 \n",
       "  \"/>\n",
       "<path clip-path=\"url(#clip260)\" d=\"M2189.69 175.385 Q2187.89 180.015 2186.17 181.427 Q2184.46 182.839 2181.59 182.839 L2178.19 182.839 L2178.19 179.274 L2180.69 179.274 Q2182.45 179.274 2183.42 178.44 Q2184.39 177.607 2185.57 174.505 L2186.34 172.561 L2175.85 147.052 L2180.36 147.052 L2188.46 167.329 L2196.57 147.052 L2201.08 147.052 L2189.69 175.385 Z\" fill=\"#000000\" fill-rule=\"evenodd\" fill-opacity=\"1\" /><path clip-path=\"url(#clip260)\" d=\"M2208.37 169.042 L2216.01 169.042 L2216.01 142.677 L2207.7 144.343 L2207.7 140.084 L2215.96 138.418 L2220.64 138.418 L2220.64 169.042 L2228.28 169.042 L2228.28 172.978 L2208.37 172.978 L2208.37 169.042 Z\" fill=\"#000000\" fill-rule=\"evenodd\" fill-opacity=\"1\" /></svg>\n"
      ]
     },
     "execution_count": 68,
     "metadata": {},
     "output_type": "execute_result"
    }
   ],
   "source": []
  },
  {
   "cell_type": "code",
   "execution_count": null,
   "metadata": {},
   "outputs": [],
   "source": [
    "function teste(M0,M1)\n",
    "    U,S,V=svd(M0'*M1)\n",
    "    \n",
    "    \n",
    "    \n",
    "    \n",
    "    \n",
    "    \n",
    "    #M0*U\n",
    "    #M1*V\n",
    "end"
   ]
  },
  {
   "cell_type": "code",
   "execution_count": 440,
   "metadata": {},
   "outputs": [
    {
     "data": {
      "text/plain": [
       "LinearAlgebra.QRCompactWY{Float64, Matrix{Float64}}\n",
       "Q factor:\n",
       "3×3 LinearAlgebra.QRCompactWYQ{Float64, Matrix{Float64}}:\n",
       " -0.974071    0.209195  -0.0861536\n",
       " -0.0105652  -0.42245   -0.906324\n",
       " -0.225994   -0.881915   0.413707\n",
       "R factor:\n",
       "2×2 Matrix{Float64}:\n",
       " 1.63518  -0.519103\n",
       " 0.0       2.13346"
      ]
     },
     "execution_count": 440,
     "metadata": {},
     "output_type": "execute_result"
    }
   ],
   "source": [
    "M0,=qr(randn(3,2))"
   ]
  },
  {
   "cell_type": "code",
   "execution_count": 43,
   "metadata": {},
   "outputs": [
    {
     "data": {
      "text/plain": [
       "([-0.2749296739625505, 0.9614643385871604], [NaN, NaN])"
      ]
     },
     "execution_count": 43,
     "metadata": {},
     "output_type": "execute_result"
    }
   ],
   "source": [
    "A=randn(3,2)\n",
    "Q,=qr(A)\n",
    "a=Q[:,1]\n",
    "b=Q[:,2]\n",
    "A=randn(3,2)\n",
    "Q,=qr(A)\n",
    "c=Q[:,1]\n",
    "d=Q[:,2]\n",
    "\n",
    "function projection_basis(a,b,c,d)\n",
    "    values,vectors=eigen(([a b]'*[a b]*[c d]'*[c d])')\n",
    "    return vectors\n",
    "end\n",
    "\n",
    "function planeGeo(a,b,c,d,t)\n",
    "    M0 =projection_basis(a,b,c,d)\n",
    "    M1 =projection_basis(c,d,a,b)\n",
    "    \n",
    "    a=M0[:,1]\n",
    "    b=M0[:,2]\n",
    "    c=M1[:,1]\n",
    "    d=M1[:,2]\n",
    "    \n",
    "    cperp = c- (c'*a)*a\n",
    "    cperp=cperp/norm(cperp)\n",
    "    dperp = d- (d'*b)*b\n",
    "    dperp=dperp/norm(dperp)\n",
    "    \n",
    "    dist1=acos(a'*c)\n",
    "    dist2=acos(b'*d)\n",
    "    \n",
    "    return cos(t*dist1)*a + sin(t*dist1)*cperp, cos(t*dist2)*b + sin(t*dist2)*dperp\n",
    "end\n",
    "\n",
    "planeGeo(a,b,c,d,0)"
   ]
  },
  {
   "cell_type": "code",
   "execution_count": 16,
   "metadata": {},
   "outputs": [
    {
     "data": {
      "text/plain": [
       "3-element Vector{Float64}:\n",
       " -0.6610058176546432\n",
       " -0.69202041731474\n",
       " -0.290136262894264"
      ]
     },
     "execution_count": 16,
     "metadata": {},
     "output_type": "execute_result"
    }
   ],
   "source": [
    "a"
   ]
  },
  {
   "cell_type": "code",
   "execution_count": null,
   "metadata": {},
   "outputs": [],
   "source": []
  },
  {
   "cell_type": "code",
   "execution_count": 454,
   "metadata": {},
   "outputs": [
    {
     "data": {
      "text/plain": [
       "3×2 Matrix{Float64}:\n",
       " -0.115162   0.661187\n",
       " -0.460428  -0.696815\n",
       "  0.880196  -0.277994"
      ]
     },
     "execution_count": 454,
     "metadata": {},
     "output_type": "execute_result"
    }
   ],
   "source": [
    "A=randn(3,2)\n",
    "M0,=qr(A)\n",
    "M0=M0[:,1:2]\n",
    "B=randn(3,2)\n",
    "Q,=qr(B)\n",
    "Q[:,1:2]"
   ]
  }
 ],
 "metadata": {
  "kernelspec": {
   "display_name": "Julia 1.6.0",
   "language": "julia",
   "name": "julia-1.6"
  },
  "language_info": {
   "file_extension": ".jl",
   "mimetype": "application/julia",
   "name": "julia",
   "version": "1.6.0"
  }
 },
 "nbformat": 4,
 "nbformat_minor": 4
}
