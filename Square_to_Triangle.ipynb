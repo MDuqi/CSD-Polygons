{
 "cells": [
  {
   "cell_type": "code",
   "execution_count": 1,
   "metadata": {},
   "outputs": [],
   "source": [
    "using LinearAlgebra\n",
    "using Plots"
   ]
  },
  {
   "cell_type": "code",
   "execution_count": null,
   "metadata": {},
   "outputs": [],
   "source": [
    "function cs_decomposition()\n",
    "    U1,S11,V1=svd(E1'*F1,full=true)\n",
    "    temp,S12,V2=svd(E1'*F2,full=true)\n",
    "    U2,S22,V2=svd(E2'*F2,full=true)\n",
    "    D=[U1'*E1'*F1*V1 U1'*E1'*F2*V2\n",
    "    U2'*E2'*F1*V1 U2'*E2'*F2*V2]\n",
    "    U=[U1 zeros(2,n-2)\n",
    "    zeros(n-2,2) U2]\n",
    "    W=E*U*D*U'*E'\n",
    "    return W, U, D\n",
    "end"
   ]
  },
  {
   "cell_type": "code",
   "execution_count": 1,
   "metadata": {},
   "outputs": [
    {
     "data": {
      "text/plain": [
       "draw (generic function with 1 method)"
      ]
     },
     "metadata": {},
     "output_type": "display_data"
    }
   ],
   "source": [
    "function draw(M)\n",
    "    x=M[:,1]\n",
    "    y=M[:,2]\n",
    "    z=x+im*y\n",
    "    e=z.^2\n",
    "    #print(norm(e[1]+e[2]+e[3]),\"\\n\")\n",
    "    #print(norm(e[1])+norm(e[2])+norm(e[3]))\n",
    "    E=[real(e)' ; imag(e)']\n",
    "    points=[zeros(2,1) E[:,1] E[:,1] E[:,1]+E[:,2] E[:,1]+E[:,2] E[:,1]+E[:,2]+E[:,3] E[:,1]+E[:,2]+E[:,3]]\n",
    "    return points\n",
    "end"
   ]
  },
  {
   "cell_type": "code",
   "execution_count": 2,
   "metadata": {},
   "outputs": [
    {
     "ename": "UndefVarError",
     "evalue": "UndefVarError: `E1` not defined",
     "output_type": "error",
     "traceback": [
      "UndefVarError: `E1` not defined\n",
      "\n",
      "Stacktrace:\n",
      " [1] top-level scope\n",
      "   @ d:\\Docs matheus\\UFRJ\\IC\\Códigos\\CSD-Polygons\\jl_notebook_cell_df34fa98e69747e1a8f8a730347b8e2f_W1sZmlsZQ==.jl:1"
     ]
    }
   ],
   "source": [
    "points=draw(E1)\n",
    "plot(points[1,:],points[2,:],xlim=[-1,1], ylim=[-1,1])"
   ]
  },
  {
   "cell_type": "code",
   "execution_count": null,
   "metadata": {},
   "outputs": [],
   "source": [
    "points=draw(F1)\n",
    "plot(points[1,:],points[2,:],xlim=[-1,1], ylim=[-1,1])"
   ]
  },
  {
   "cell_type": "code",
   "execution_count": null,
   "metadata": {},
   "outputs": [],
   "source": [
    "points=draw(W*E1*U1)\n",
    "plot(points[1,:],points[2,:],xlim=[-1,1], ylim=[-1,1])"
   ]
  }
 ],
 "metadata": {
  "kernelspec": {
   "display_name": "Julia 1.10.2",
   "language": "julia",
   "name": "julia-1.10"
  },
  "language_info": {
   "file_extension": ".jl",
   "mimetype": "application/julia",
   "name": "julia",
   "version": "1.10.2"
  }
 },
 "nbformat": 4,
 "nbformat_minor": 2
}
